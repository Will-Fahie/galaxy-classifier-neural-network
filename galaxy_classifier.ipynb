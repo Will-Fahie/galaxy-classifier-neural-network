{
  "nbformat": 4,
  "nbformat_minor": 5,
  "metadata": {
    "accelerator": "GPU",
    "colab": {
      "name": "galaxy-classifier.ipynb",
      "provenance": [],
      "collapsed_sections": []
    },
    "kernelspec": {
      "display_name": "Python 3",
      "language": "python",
      "name": "python3"
    },
    "language_info": {
      "codemirror_mode": {
        "name": "ipython",
        "version": 3
      },
      "file_extension": ".py",
      "mimetype": "text/x-python",
      "name": "python",
      "nbconvert_exporter": "python",
      "pygments_lexer": "ipython3",
      "version": "3.9.4"
    }
  },
  "cells": [
    {
      "cell_type": "markdown",
      "metadata": {
        "id": "59d912fe"
      },
      "source": [
        "# Using machine learning to classify the morphologies of distant galaxies"
      ],
      "id": "59d912fe"
    },
    {
      "cell_type": "markdown",
      "metadata": {
        "id": "51371283"
      },
      "source": [
        "Data set: https://www.kaggle.com/c/galaxy-zoo-the-galaxy-challenge"
      ],
      "id": "51371283"
    },
    {
      "cell_type": "code",
      "metadata": {
        "id": "ffd6be1d"
      },
      "source": [
        "import numpy as np\n",
        "import pandas as pd\n",
        "import matplotlib.pyplot as plt"
      ],
      "id": "ffd6be1d",
      "execution_count": 1,
      "outputs": []
    },
    {
      "cell_type": "code",
      "metadata": {
        "id": "569a6007"
      },
      "source": [
        "REBUILD_DATA = False"
      ],
      "id": "569a6007",
      "execution_count": 2,
      "outputs": []
    },
    {
      "cell_type": "markdown",
      "metadata": {
        "id": "91d0996b"
      },
      "source": [
        "## Setting up data"
      ],
      "id": "91d0996b"
    },
    {
      "cell_type": "code",
      "metadata": {
        "colab": {
          "base_uri": "https://localhost:8080/",
          "height": 224
        },
        "id": "502493b8",
        "outputId": "6fc8a32b-0b6f-4d0f-aba2-1ea623ba1ceb"
      },
      "source": [
        "df = pd.read_csv(\"/content/drive/MyDrive/Galaxy Classification/training_solutions_rev1.csv\")\n",
        "df.head()"
      ],
      "id": "502493b8",
      "execution_count": 3,
      "outputs": [
        {
          "output_type": "execute_result",
          "data": {
            "text/html": [
              "<div>\n",
              "<style scoped>\n",
              "    .dataframe tbody tr th:only-of-type {\n",
              "        vertical-align: middle;\n",
              "    }\n",
              "\n",
              "    .dataframe tbody tr th {\n",
              "        vertical-align: top;\n",
              "    }\n",
              "\n",
              "    .dataframe thead th {\n",
              "        text-align: right;\n",
              "    }\n",
              "</style>\n",
              "<table border=\"1\" class=\"dataframe\">\n",
              "  <thead>\n",
              "    <tr style=\"text-align: right;\">\n",
              "      <th></th>\n",
              "      <th>GalaxyID</th>\n",
              "      <th>Class1.1</th>\n",
              "      <th>Class1.2</th>\n",
              "      <th>Class1.3</th>\n",
              "      <th>Class2.1</th>\n",
              "      <th>Class2.2</th>\n",
              "      <th>Class3.1</th>\n",
              "      <th>Class3.2</th>\n",
              "      <th>Class4.1</th>\n",
              "      <th>Class4.2</th>\n",
              "      <th>Class5.1</th>\n",
              "      <th>Class5.2</th>\n",
              "      <th>Class5.3</th>\n",
              "      <th>Class5.4</th>\n",
              "      <th>Class6.1</th>\n",
              "      <th>Class6.2</th>\n",
              "      <th>Class7.1</th>\n",
              "      <th>Class7.2</th>\n",
              "      <th>Class7.3</th>\n",
              "      <th>Class8.1</th>\n",
              "      <th>Class8.2</th>\n",
              "      <th>Class8.3</th>\n",
              "      <th>Class8.4</th>\n",
              "      <th>Class8.5</th>\n",
              "      <th>Class8.6</th>\n",
              "      <th>Class8.7</th>\n",
              "      <th>Class9.1</th>\n",
              "      <th>Class9.2</th>\n",
              "      <th>Class9.3</th>\n",
              "      <th>Class10.1</th>\n",
              "      <th>Class10.2</th>\n",
              "      <th>Class10.3</th>\n",
              "      <th>Class11.1</th>\n",
              "      <th>Class11.2</th>\n",
              "      <th>Class11.3</th>\n",
              "      <th>Class11.4</th>\n",
              "      <th>Class11.5</th>\n",
              "      <th>Class11.6</th>\n",
              "    </tr>\n",
              "  </thead>\n",
              "  <tbody>\n",
              "    <tr>\n",
              "      <th>0</th>\n",
              "      <td>100008</td>\n",
              "      <td>0.383147</td>\n",
              "      <td>0.616853</td>\n",
              "      <td>0.000000</td>\n",
              "      <td>0.000000</td>\n",
              "      <td>0.616853</td>\n",
              "      <td>0.038452</td>\n",
              "      <td>0.578401</td>\n",
              "      <td>0.418398</td>\n",
              "      <td>0.198455</td>\n",
              "      <td>0.0</td>\n",
              "      <td>0.104752</td>\n",
              "      <td>0.512101</td>\n",
              "      <td>0.000000</td>\n",
              "      <td>0.054453</td>\n",
              "      <td>0.945547</td>\n",
              "      <td>0.201463</td>\n",
              "      <td>0.181684</td>\n",
              "      <td>0.000000</td>\n",
              "      <td>0.0</td>\n",
              "      <td>0.027226</td>\n",
              "      <td>0.000000</td>\n",
              "      <td>0.027226</td>\n",
              "      <td>0.000000</td>\n",
              "      <td>0.000000</td>\n",
              "      <td>0.0</td>\n",
              "      <td>0.000000</td>\n",
              "      <td>0.0</td>\n",
              "      <td>0.000000</td>\n",
              "      <td>0.279952</td>\n",
              "      <td>0.138445</td>\n",
              "      <td>0.000000</td>\n",
              "      <td>0.000000</td>\n",
              "      <td>0.092886</td>\n",
              "      <td>0.0</td>\n",
              "      <td>0.0</td>\n",
              "      <td>0.0</td>\n",
              "      <td>0.325512</td>\n",
              "    </tr>\n",
              "    <tr>\n",
              "      <th>1</th>\n",
              "      <td>100023</td>\n",
              "      <td>0.327001</td>\n",
              "      <td>0.663777</td>\n",
              "      <td>0.009222</td>\n",
              "      <td>0.031178</td>\n",
              "      <td>0.632599</td>\n",
              "      <td>0.467370</td>\n",
              "      <td>0.165229</td>\n",
              "      <td>0.591328</td>\n",
              "      <td>0.041271</td>\n",
              "      <td>0.0</td>\n",
              "      <td>0.236781</td>\n",
              "      <td>0.160941</td>\n",
              "      <td>0.234877</td>\n",
              "      <td>0.189149</td>\n",
              "      <td>0.810851</td>\n",
              "      <td>0.000000</td>\n",
              "      <td>0.135082</td>\n",
              "      <td>0.191919</td>\n",
              "      <td>0.0</td>\n",
              "      <td>0.000000</td>\n",
              "      <td>0.140353</td>\n",
              "      <td>0.000000</td>\n",
              "      <td>0.048796</td>\n",
              "      <td>0.000000</td>\n",
              "      <td>0.0</td>\n",
              "      <td>0.012414</td>\n",
              "      <td>0.0</td>\n",
              "      <td>0.018764</td>\n",
              "      <td>0.000000</td>\n",
              "      <td>0.131378</td>\n",
              "      <td>0.459950</td>\n",
              "      <td>0.000000</td>\n",
              "      <td>0.591328</td>\n",
              "      <td>0.0</td>\n",
              "      <td>0.0</td>\n",
              "      <td>0.0</td>\n",
              "      <td>0.000000</td>\n",
              "    </tr>\n",
              "    <tr>\n",
              "      <th>2</th>\n",
              "      <td>100053</td>\n",
              "      <td>0.765717</td>\n",
              "      <td>0.177352</td>\n",
              "      <td>0.056931</td>\n",
              "      <td>0.000000</td>\n",
              "      <td>0.177352</td>\n",
              "      <td>0.000000</td>\n",
              "      <td>0.177352</td>\n",
              "      <td>0.000000</td>\n",
              "      <td>0.177352</td>\n",
              "      <td>0.0</td>\n",
              "      <td>0.117790</td>\n",
              "      <td>0.059562</td>\n",
              "      <td>0.000000</td>\n",
              "      <td>0.000000</td>\n",
              "      <td>1.000000</td>\n",
              "      <td>0.000000</td>\n",
              "      <td>0.741864</td>\n",
              "      <td>0.023853</td>\n",
              "      <td>0.0</td>\n",
              "      <td>0.000000</td>\n",
              "      <td>0.000000</td>\n",
              "      <td>0.000000</td>\n",
              "      <td>0.000000</td>\n",
              "      <td>0.000000</td>\n",
              "      <td>0.0</td>\n",
              "      <td>0.000000</td>\n",
              "      <td>0.0</td>\n",
              "      <td>0.000000</td>\n",
              "      <td>0.000000</td>\n",
              "      <td>0.000000</td>\n",
              "      <td>0.000000</td>\n",
              "      <td>0.000000</td>\n",
              "      <td>0.000000</td>\n",
              "      <td>0.0</td>\n",
              "      <td>0.0</td>\n",
              "      <td>0.0</td>\n",
              "      <td>0.000000</td>\n",
              "    </tr>\n",
              "    <tr>\n",
              "      <th>3</th>\n",
              "      <td>100078</td>\n",
              "      <td>0.693377</td>\n",
              "      <td>0.238564</td>\n",
              "      <td>0.068059</td>\n",
              "      <td>0.000000</td>\n",
              "      <td>0.238564</td>\n",
              "      <td>0.109493</td>\n",
              "      <td>0.129071</td>\n",
              "      <td>0.189098</td>\n",
              "      <td>0.049466</td>\n",
              "      <td>0.0</td>\n",
              "      <td>0.000000</td>\n",
              "      <td>0.113284</td>\n",
              "      <td>0.125280</td>\n",
              "      <td>0.320398</td>\n",
              "      <td>0.679602</td>\n",
              "      <td>0.408599</td>\n",
              "      <td>0.284778</td>\n",
              "      <td>0.000000</td>\n",
              "      <td>0.0</td>\n",
              "      <td>0.000000</td>\n",
              "      <td>0.096119</td>\n",
              "      <td>0.096119</td>\n",
              "      <td>0.000000</td>\n",
              "      <td>0.128159</td>\n",
              "      <td>0.0</td>\n",
              "      <td>0.000000</td>\n",
              "      <td>0.0</td>\n",
              "      <td>0.000000</td>\n",
              "      <td>0.094549</td>\n",
              "      <td>0.000000</td>\n",
              "      <td>0.094549</td>\n",
              "      <td>0.189098</td>\n",
              "      <td>0.000000</td>\n",
              "      <td>0.0</td>\n",
              "      <td>0.0</td>\n",
              "      <td>0.0</td>\n",
              "      <td>0.000000</td>\n",
              "    </tr>\n",
              "    <tr>\n",
              "      <th>4</th>\n",
              "      <td>100090</td>\n",
              "      <td>0.933839</td>\n",
              "      <td>0.000000</td>\n",
              "      <td>0.066161</td>\n",
              "      <td>0.000000</td>\n",
              "      <td>0.000000</td>\n",
              "      <td>0.000000</td>\n",
              "      <td>0.000000</td>\n",
              "      <td>0.000000</td>\n",
              "      <td>0.000000</td>\n",
              "      <td>0.0</td>\n",
              "      <td>0.000000</td>\n",
              "      <td>0.000000</td>\n",
              "      <td>0.000000</td>\n",
              "      <td>0.029383</td>\n",
              "      <td>0.970617</td>\n",
              "      <td>0.494587</td>\n",
              "      <td>0.439252</td>\n",
              "      <td>0.000000</td>\n",
              "      <td>0.0</td>\n",
              "      <td>0.000000</td>\n",
              "      <td>0.000000</td>\n",
              "      <td>0.000000</td>\n",
              "      <td>0.000000</td>\n",
              "      <td>0.029383</td>\n",
              "      <td>0.0</td>\n",
              "      <td>0.000000</td>\n",
              "      <td>0.0</td>\n",
              "      <td>0.000000</td>\n",
              "      <td>0.000000</td>\n",
              "      <td>0.000000</td>\n",
              "      <td>0.000000</td>\n",
              "      <td>0.000000</td>\n",
              "      <td>0.000000</td>\n",
              "      <td>0.0</td>\n",
              "      <td>0.0</td>\n",
              "      <td>0.0</td>\n",
              "      <td>0.000000</td>\n",
              "    </tr>\n",
              "  </tbody>\n",
              "</table>\n",
              "</div>"
            ],
            "text/plain": [
              "   GalaxyID  Class1.1  Class1.2  ...  Class11.4  Class11.5  Class11.6\n",
              "0    100008  0.383147  0.616853  ...        0.0        0.0   0.325512\n",
              "1    100023  0.327001  0.663777  ...        0.0        0.0   0.000000\n",
              "2    100053  0.765717  0.177352  ...        0.0        0.0   0.000000\n",
              "3    100078  0.693377  0.238564  ...        0.0        0.0   0.000000\n",
              "4    100090  0.933839  0.000000  ...        0.0        0.0   0.000000\n",
              "\n",
              "[5 rows x 38 columns]"
            ]
          },
          "metadata": {
            "tags": []
          },
          "execution_count": 3
        }
      ]
    },
    {
      "cell_type": "markdown",
      "metadata": {
        "id": "be66e3e7"
      },
      "source": [
        "Probability distributions for the classifications for each of the training images."
      ],
      "id": "be66e3e7"
    },
    {
      "cell_type": "code",
      "metadata": {
        "id": "6f67ed9c"
      },
      "source": [
        "from sklearn.model_selection import train_test_split\n",
        "\n",
        "df_train, df_test = train_test_split(df, test_size=0.2)"
      ],
      "id": "6f67ed9c",
      "execution_count": 4,
      "outputs": []
    },
    {
      "cell_type": "code",
      "metadata": {
        "colab": {
          "base_uri": "https://localhost:8080/"
        },
        "id": "52c0a1d0",
        "outputId": "6a2c9fea-7944-42d7-ae01-19e37d18f687"
      },
      "source": [
        "df_train.shape, df_test.shape"
      ],
      "id": "52c0a1d0",
      "execution_count": 5,
      "outputs": [
        {
          "output_type": "execute_result",
          "data": {
            "text/plain": [
              "((49262, 38), (12316, 38))"
            ]
          },
          "metadata": {
            "tags": []
          },
          "execution_count": 5
        }
      ]
    },
    {
      "cell_type": "markdown",
      "metadata": {
        "id": "e5529299"
      },
      "source": [
        "* Split training data into ~50,000 images for training, and ~12,000 images for validation\n",
        "* Each row corresponds to a specific galaxy (each with a unique GalaxyID)\n",
        "* Each galaxy (row) has 37 probabilities corresponding to each class of galaxy"
      ],
      "id": "e5529299"
    },
    {
      "cell_type": "code",
      "metadata": {
        "id": "cc52fd64"
      },
      "source": [
        "ORIGINAL_SHAPE = (424,424)\n",
        "CROP_SIZE = (256,256)\n",
        "IMG_SHAPE = (64,64)\n",
        "\n",
        "X1 = (ORIGINAL_SHAPE[0] - CROP_SIZE[0]) // 2  # x coordinate of cropped image\n",
        "Y1 = (ORIGINAL_SHAPE[1] - CROP_SIZE[1]) // 2  # y coordinate of cropped image"
      ],
      "id": "cc52fd64",
      "execution_count": 6,
      "outputs": []
    },
    {
      "cell_type": "code",
      "metadata": {
        "id": "c6664b32"
      },
      "source": [
        "from skimage.transform import resize\n",
        "from tqdm import tqdm\n",
        "\n",
        "def process_image(path, x1, y1, shape, crop_size):\n",
        "    img = plt.imread(path)  # reads image from file path\n",
        "    img = img[x1:x1+crop_size[0], y1:y1+crop_size[1]]  # crops image\n",
        "    img = resize(img, shape)  # resizes image\n",
        "    img = img/255.0  # normalises\n",
        "    return img\n",
        "\n",
        "def get_all_images(df, shape=IMG_SHAPE, crop_size=CROP_SIZE):\n",
        "    all_values = df.values  # removes column headers\n",
        "    ids = all_values[:,0].astype(int).astype(str)\n",
        "    y = all_values[:,1:]\n",
        "    X = []\n",
        "    \n",
        "    for img_id in tqdm(ids):\n",
        "        img = process_image(\"data/images_training_rev1/\"+img_id+\".jpg\", X1, Y1, shape, crop_size)\n",
        "        X.append(img)\n",
        "        \n",
        "    X = np.array(X)\n",
        "    \n",
        "    return X, y"
      ],
      "id": "c6664b32",
      "execution_count": 7,
      "outputs": []
    },
    {
      "cell_type": "code",
      "metadata": {
        "id": "01ccab83"
      },
      "source": [
        "if REBUILD_DATA:\n",
        "    X_train, y_train = get_all_images(df_train)\n",
        "    X_test, y_test = get_all_images(df_test)\n",
        "    np.save(\"X_train.npy\", X_train)\n",
        "    np.save(\"y_train.npy\", y_train)\n",
        "    np.save(\"X_test.npy\", X_test)\n",
        "    np.save(\"y_test.npy\", y_test)"
      ],
      "id": "01ccab83",
      "execution_count": 8,
      "outputs": []
    },
    {
      "cell_type": "code",
      "metadata": {
        "id": "e1b14610"
      },
      "source": [
        "X_train = np.load(\"/content/drive/MyDrive/Galaxy Classification/X_train.npy\")\n",
        "y_train = np.load(\"/content/drive/MyDrive/Galaxy Classification/y_train.npy\")\n",
        "X_test = np.load(\"/content/drive/MyDrive/Galaxy Classification/X_test.npy\")\n",
        "y_test = np.load(\"/content/drive/MyDrive/Galaxy Classification/y_test.npy\")"
      ],
      "id": "e1b14610",
      "execution_count": 9,
      "outputs": []
    },
    {
      "cell_type": "markdown",
      "metadata": {
        "id": "b5bfc58d"
      },
      "source": [
        "## Exploratory data analysis (EDA)"
      ],
      "id": "b5bfc58d"
    },
    {
      "cell_type": "code",
      "metadata": {
        "id": "ee4d4525",
        "colab": {
          "base_uri": "https://localhost:8080/"
        },
        "outputId": "e3f843e1-6309-4db7-e46a-f14f50c72d65"
      },
      "source": [
        "columns = df.columns[1:]  # removes GalaxyID column\n",
        "columns"
      ],
      "id": "ee4d4525",
      "execution_count": 10,
      "outputs": [
        {
          "output_type": "execute_result",
          "data": {
            "text/plain": [
              "Index(['Class1.1', 'Class1.2', 'Class1.3', 'Class2.1', 'Class2.2', 'Class3.1',\n",
              "       'Class3.2', 'Class4.1', 'Class4.2', 'Class5.1', 'Class5.2', 'Class5.3',\n",
              "       'Class5.4', 'Class6.1', 'Class6.2', 'Class7.1', 'Class7.2', 'Class7.3',\n",
              "       'Class8.1', 'Class8.2', 'Class8.3', 'Class8.4', 'Class8.5', 'Class8.6',\n",
              "       'Class8.7', 'Class9.1', 'Class9.2', 'Class9.3', 'Class10.1',\n",
              "       'Class10.2', 'Class10.3', 'Class11.1', 'Class11.2', 'Class11.3',\n",
              "       'Class11.4', 'Class11.5', 'Class11.6'],\n",
              "      dtype='object')"
            ]
          },
          "metadata": {
            "tags": []
          },
          "execution_count": 10
        }
      ]
    },
    {
      "cell_type": "code",
      "metadata": {
        "id": "b87fe6aa"
      },
      "source": [
        "def show_image(idx):\n",
        "  \"\"\"\n",
        "  Takes an image from X_train at index=idx and denormalises it so that it can be displayed\n",
        "  Takes the prediction and its respective probability and outputs as the title\n",
        "  \"\"\"\n",
        "  img = X_train[idx]*255\n",
        "  plt.imshow(img)\n",
        "  plt.xticks([])\n",
        "  plt.yticks([])\n",
        "  label = columns[np.argmax(y_train[idx])]\n",
        "  conf = np.max(y_train[idx])\n",
        "  plt.title(f\"{label} with {round(conf*100, 2)}% confidence\")"
      ],
      "id": "b87fe6aa",
      "execution_count": 11,
      "outputs": []
    },
    {
      "cell_type": "code",
      "metadata": {
        "id": "25d97d7f",
        "colab": {
          "base_uri": "https://localhost:8080/",
          "height": 268
        },
        "outputId": "711e7106-c263-410d-9c11-23288ddd00cb"
      },
      "source": [
        "show_image(3)"
      ],
      "id": "25d97d7f",
      "execution_count": 12,
      "outputs": [
        {
          "output_type": "display_data",
          "data": {
            "image/png": "[encoded data removed]",
            "text/plain": [
              "<Figure size 432x288 with 1 Axes>"
            ]
          },
          "metadata": {
            "tags": []
          }
        }
      ]
    },
    {
      "cell_type": "markdown",
      "metadata": {
        "id": "c33a77b1"
      },
      "source": [
        "## Building the neural network"
      ],
      "id": "c33a77b1"
    },
    {
      "cell_type": "code",
      "metadata": {
        "id": "7e229ae4"
      },
      "source": [
        "from tensorflow.keras.models import Sequential\n",
        "from tensorflow.keras.layers import Activation, Dropout, Flatten, Dense, Conv2D, MaxPooling2D, GlobalMaxPooling2D"
      ],
      "id": "7e229ae4",
      "execution_count": 13,
      "outputs": []
    },
    {
      "cell_type": "code",
      "metadata": {
        "id": "12328ffa",
        "colab": {
          "base_uri": "https://localhost:8080/"
        },
        "outputId": "63ced92c-1971-436b-a2a6-bb68e2f9c102"
      },
      "source": [
        "len(columns)"
      ],
      "id": "12328ffa",
      "execution_count": 14,
      "outputs": [
        {
          "output_type": "execute_result",
          "data": {
            "text/plain": [
              "37"
            ]
          },
          "metadata": {
            "tags": []
          },
          "execution_count": 14
        }
      ]
    },
    {
      "cell_type": "markdown",
      "metadata": {
        "id": "1fcc2dc9"
      },
      "source": [
        "37 classes^"
      ],
      "id": "1fcc2dc9"
    },
    {
      "cell_type": "code",
      "metadata": {
        "id": "hMj4dEVCyUhI",
        "colab": {
          "base_uri": "https://localhost:8080/"
        },
        "outputId": "a709126b-793b-4d9a-8682-448bf1d979ab"
      },
      "source": [
        "model = Sequential()\n",
        "\n",
        "model.add(Conv2D(512, (3, 3), input_shape=(IMG_SHAPE[0], IMG_SHAPE[1], 3)))\n",
        "model.add(Conv2D(256, (3, 3)))\n",
        "model.add(Activation('relu'))\n",
        "model.add(MaxPooling2D(pool_size=(2, 2)))\n",
        "\n",
        "model.add(Conv2D(256, (3, 3)))\n",
        "model.add(Conv2D(128, (3, 3)))\n",
        "model.add(Activation('relu'))\n",
        "model.add(MaxPooling2D(pool_size=(2, 2)))\n",
        "\n",
        "model.add(Conv2D(128, (3, 3)))\n",
        "model.add(Conv2D(128, (3, 3)))\n",
        "model.add(Activation('relu'))\n",
        "model.add(GlobalMaxPooling2D())\n",
        "\n",
        "model.add(Dropout(0.25))\n",
        "model.add(Dense(128))\n",
        "model.add(Activation('relu'))\n",
        "model.add(Dropout(0.25))\n",
        "model.add(Dense(128))\n",
        "model.add(Activation('relu'))\n",
        "model.add(Dropout(0.25))\n",
        "model.add(Dense(128))\n",
        "model.add(Activation('relu'))\n",
        "model.add(Dropout(0.25))\n",
        "model.add(Dense(37))\n",
        "model.add(Activation('sigmoid'))\n",
        "model.compile(loss=\"binary_crossentropy\", optimizer=\"adamax\", metrics=[\"accuracy\"])\n",
        "\n",
        "model.summary()"
      ],
      "id": "hMj4dEVCyUhI",
      "execution_count": 15,
      "outputs": [
        {
          "output_type": "stream",
          "text": [
            "Model: \"sequential\"\n",
            "_________________________________________________________________\n",
            "Layer (type)                 Output Shape              Param #   \n",
            "=================================================================\n",
            "conv2d (Conv2D)              (None, 62, 62, 512)       14336     \n",
            "_________________________________________________________________\n",
            "conv2d_1 (Conv2D)            (None, 60, 60, 256)       1179904   \n",
            "_________________________________________________________________\n",
            "activation (Activation)      (None, 60, 60, 256)       0         \n",
            "_________________________________________________________________\n",
            "max_pooling2d (MaxPooling2D) (None, 30, 30, 256)       0         \n",
            "_________________________________________________________________\n",
            "conv2d_2 (Conv2D)            (None, 28, 28, 256)       590080    \n",
            "_________________________________________________________________\n",
            "conv2d_3 (Conv2D)            (None, 26, 26, 128)       295040    \n",
            "_________________________________________________________________\n",
            "activation_1 (Activation)    (None, 26, 26, 128)       0         \n",
            "_________________________________________________________________\n",
            "max_pooling2d_1 (MaxPooling2 (None, 13, 13, 128)       0         \n",
            "_________________________________________________________________\n",
            "conv2d_4 (Conv2D)            (None, 11, 11, 128)       147584    \n",
            "_________________________________________________________________\n",
            "conv2d_5 (Conv2D)            (None, 9, 9, 128)         147584    \n",
            "_________________________________________________________________\n",
            "activation_2 (Activation)    (None, 9, 9, 128)         0         \n",
            "_________________________________________________________________\n",
            "global_max_pooling2d (Global (None, 128)               0         \n",
            "_________________________________________________________________\n",
            "dropout (Dropout)            (None, 128)               0         \n",
            "_________________________________________________________________\n",
            "dense (Dense)                (None, 128)               16512     \n",
            "_________________________________________________________________\n",
            "activation_3 (Activation)    (None, 128)               0         \n",
            "_________________________________________________________________\n",
            "dropout_1 (Dropout)          (None, 128)               0         \n",
            "_________________________________________________________________\n",
            "dense_1 (Dense)              (None, 128)               16512     \n",
            "_________________________________________________________________\n",
            "activation_4 (Activation)    (None, 128)               0         \n",
            "_________________________________________________________________\n",
            "dropout_2 (Dropout)          (None, 128)               0         \n",
            "_________________________________________________________________\n",
            "dense_2 (Dense)              (None, 128)               16512     \n",
            "_________________________________________________________________\n",
            "activation_5 (Activation)    (None, 128)               0         \n",
            "_________________________________________________________________\n",
            "dropout_3 (Dropout)          (None, 128)               0         \n",
            "_________________________________________________________________\n",
            "dense_3 (Dense)              (None, 37)                4773      \n",
            "_________________________________________________________________\n",
            "activation_6 (Activation)    (None, 37)                0         \n",
            "=================================================================\n",
            "Total params: 2,428,837\n",
            "Trainable params: 2,428,837\n",
            "Non-trainable params: 0\n",
            "_________________________________________________________________\n"
          ],
          "name": "stdout"
        }
      ]
    },
    {
      "cell_type": "code",
      "metadata": {
        "id": "5321956e",
        "colab": {
          "base_uri": "https://localhost:8080/"
        },
        "outputId": "6cb739a3-7107-4f59-eaac-15c2c5c421cf"
      },
      "source": [
        "history = model.fit(X_train, y_train, epochs=8, validation_data=(X_test, y_test))"
      ],
      "id": "5321956e",
      "execution_count": 16,
      "outputs": [
        {
          "output_type": "stream",
          "text": [
            "Epoch 1/8\n",
            "1540/1540 [==============================] - 222s 120ms/step - loss: 0.3376 - accuracy: 0.5227 - val_loss: 0.2949 - val_accuracy: 0.5992\n",
            "Epoch 2/8\n",
            "1540/1540 [==============================] - 180s 117ms/step - loss: 0.2972 - accuracy: 0.5939 - val_loss: 0.2889 - val_accuracy: 0.5992\n",
            "Epoch 3/8\n",
            "1540/1540 [==============================] - 180s 117ms/step - loss: 0.2913 - accuracy: 0.5987 - val_loss: 0.2833 - val_accuracy: 0.6301\n",
            "Epoch 4/8\n",
            "1540/1540 [==============================] - 180s 117ms/step - loss: 0.2825 - accuracy: 0.6082 - val_loss: 0.2648 - val_accuracy: 0.6595\n",
            "Epoch 5/8\n",
            "1540/1540 [==============================] - 181s 117ms/step - loss: 0.2687 - accuracy: 0.6292 - val_loss: 0.2603 - val_accuracy: 0.7012\n",
            "Epoch 6/8\n",
            "1540/1540 [==============================] - 181s 117ms/step - loss: 0.2610 - accuracy: 0.6692 - val_loss: 0.2535 - val_accuracy: 0.7250\n",
            "Epoch 7/8\n",
            "1540/1540 [==============================] - 181s 118ms/step - loss: 0.2573 - accuracy: 0.6952 - val_loss: 0.2523 - val_accuracy: 0.7244\n",
            "Epoch 8/8\n",
            "1540/1540 [==============================] - 181s 117ms/step - loss: 0.2549 - accuracy: 0.7102 - val_loss: 0.2485 - val_accuracy: 0.7485\n"
          ],
          "name": "stdout"
        }
      ]
    },
    {
      "cell_type": "code",
      "metadata": {
        "colab": {
          "base_uri": "https://localhost:8080/"
        },
        "id": "HvlqRHBBk83P",
        "outputId": "8eb2a1a3-9a7b-4ebc-f5d9-9479a56020b7"
      },
      "source": [
        "import time\n",
        "model.save(f\"/content/drive/MyDrive/Galaxy Classification/model-{int(time.time())}\")"
      ],
      "id": "HvlqRHBBk83P",
      "execution_count": 18,
      "outputs": [
        {
          "output_type": "stream",
          "text": [
            "INFO:tensorflow:Assets written to: /content/drive/MyDrive/Galaxy Classification/model-1619720448/assets\n"
          ],
          "name": "stdout"
        }
      ]
    },
    {
      "cell_type": "code",
      "metadata": {
        "id": "G4Na1JqxpdT0",
        "colab": {
          "base_uri": "https://localhost:8080/",
          "height": 295
        },
        "outputId": "b1529c13-0101-4fe9-a8b8-3823e36b06ee"
      },
      "source": [
        "plt.plot(history.history[\"loss\"], label=\"Loss (training data)\")\n",
        "plt.plot(history.history[\"val_loss\"], label=\"Loss (validation data)\")\n",
        "plt.title(\"Loss for galaxy classifier\")\n",
        "plt.ylabel(\"Loss value\")\n",
        "plt.xlabel(\"No. epoch\")\n",
        "plt.legend(loc=\"upper right\");"
      ],
      "id": "G4Na1JqxpdT0",
      "execution_count": 19,
      "outputs": [
        {
          "output_type": "display_data",
          "data": {
            "image/png": "[encoded data removed]",
            "text/plain": [
              "<Figure size 432x288 with 1 Axes>"
            ]
          },
          "metadata": {
            "tags": [],
            "needs_background": "light"
          }
        }
      ]
    },
    {
      "cell_type": "code",
      "metadata": {
        "colab": {
          "base_uri": "https://localhost:8080/",
          "height": 295
        },
        "id": "5GcecqZgkI-0",
        "outputId": "4fbb3950-af3e-4d5d-fad9-cd27c09a784b"
      },
      "source": [
        "plt.plot(history.history[\"accuracy\"], label=\"Accuracy (training data)\")\n",
        "plt.plot(history.history[\"val_accuracy\"], label=\"Accuracy (validation data)\")\n",
        "plt.title(\"Accuracy for galaxy classifier\")\n",
        "plt.ylabel(\"Accuracy value\")\n",
        "plt.xlabel(\"No. epoch\")\n",
        "plt.legend(loc=\"upper left\");"
      ],
      "id": "5GcecqZgkI-0",
      "execution_count": 20,
      "outputs": [
        {
          "output_type": "display_data",
          "data": {
            "image/png": "[encoded data removed]",
            "text/plain": [
              "<Figure size 432x288 with 1 Axes>"
            ]
          },
          "metadata": {
            "tags": [],
            "needs_background": "light"
          }
        }
      ]
    }
  ]
}